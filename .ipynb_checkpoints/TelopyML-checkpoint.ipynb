{
 "cells": [
  {
   "cell_type": "markdown",
   "metadata": {},
   "source": [
    "## Telopy ML Implementation"
   ]
  },
  {
   "cell_type": "markdown",
   "metadata": {},
   "source": [
    "### Introduction"
   ]
  },
  {
   "cell_type": "markdown",
   "metadata": {},
   "source": [
    "Telopy is a real time notification service of IIIT Bhubaneswar on Telegram. The name comes from Telegram + Python = Telopy"
   ]
  },
  {
   "cell_type": "markdown",
   "metadata": {},
   "source": [
    "### What problem arises?"
   ]
  },
  {
   "cell_type": "markdown",
   "metadata": {},
   "source": [
    "1. There is no such freemium site to host python app. So developer's local machine plays server role\n",
    "2. Single network is used for multiple purposes hence bandwidth may fluctuate app to app\n",
    "3. M-UMS suffers server breakdown at night hours\n",
    "4. It's not necessary to keep servers live all time, Rarely occasionally notice arives through out a day"
   ]
  },
  {
   "cell_type": "markdown",
   "metadata": {},
   "source": [
    "### What's the plan?"
   ]
  },
  {
   "cell_type": "markdown",
   "metadata": {},
   "source": [
    "The plan is simple. We can use Machine Learning to decide when our servers should be live or not. I have always been a visionary about automation of Telopy, so from beginning I was concerned about data that can be used for Supervised Learning. Telegram has a unique feature of exporting message data of private chat groups in JSON format. It took only few ours to cleanse the other private group data and Telopy non useful data like : Message Content and GMT Time Zone."
   ]
  },
  {
   "cell_type": "markdown",
   "metadata": {},
   "source": [
    "### Why Supervised Learning?"
   ]
  },
  {
   "cell_type": "markdown",
   "metadata": {},
   "source": [
    "I think Clustering can be helpful to classify the notices received in a particular duration of day. For example our College's Office opens around 10am so there is more probability of expecting notice within 2-3 hrs span. That the amount of notices received through out a week or month can be studied and it's cluster analysis can be used to define the average duration of server to be live. Have a look on data below to get things more clear"
   ]
  },
  {
   "cell_type": "markdown",
   "metadata": {},
   "source": [
    "### Lets get started..."
   ]
  },
  {
   "cell_type": "markdown",
   "metadata": {},
   "source": [
    "Importing relevant libraries that we will be using in this project"
   ]
  },
  {
   "cell_type": "code",
   "execution_count": 1,
   "metadata": {},
   "outputs": [],
   "source": [
    "import numpy as np                # There is no such use of Numpy but old habit of importing\n",
    "import pandas as pd               # Pandas for Data Handeling and Structuring\n",
    "import matplotlib.pyplot as plt   # Matplotlib for plotting graphs\n",
    "import seaborn as sns             # It overrides the above library and beautifies the graph with its feature\n",
    "sns.set()        # setting Seaborn"
   ]
  },
  {
   "cell_type": "markdown",
   "metadata": {},
   "source": [
    "Our data lies in 'dataNew2.csv'"
   ]
  },
  {
   "cell_type": "code",
   "execution_count": 2,
   "metadata": {},
   "outputs": [
    {
     "data": {
      "text/html": [
       "<div>\n",
       "<style scoped>\n",
       "    .dataframe tbody tr th:only-of-type {\n",
       "        vertical-align: middle;\n",
       "    }\n",
       "\n",
       "    .dataframe tbody tr th {\n",
       "        vertical-align: top;\n",
       "    }\n",
       "\n",
       "    .dataframe thead th {\n",
       "        text-align: right;\n",
       "    }\n",
       "</style>\n",
       "<table border=\"1\" class=\"dataframe\">\n",
       "  <thead>\n",
       "    <tr style=\"text-align: right;\">\n",
       "      <th></th>\n",
       "      <th>id</th>\n",
       "      <th>type</th>\n",
       "      <th>dateNtime</th>\n",
       "      <th>date</th>\n",
       "      <th>time</th>\n",
       "    </tr>\n",
       "  </thead>\n",
       "  <tbody>\n",
       "    <tr>\n",
       "      <th>0</th>\n",
       "      <td>1</td>\n",
       "      <td>service</td>\n",
       "      <td>2020-01-27T19:28:32</td>\n",
       "      <td>2020-01-27</td>\n",
       "      <td>19:28:32</td>\n",
       "    </tr>\n",
       "    <tr>\n",
       "      <th>1</th>\n",
       "      <td>6</td>\n",
       "      <td>message</td>\n",
       "      <td>2020-01-27T23:07:42</td>\n",
       "      <td>2020-01-27</td>\n",
       "      <td>23:07:42</td>\n",
       "    </tr>\n",
       "    <tr>\n",
       "      <th>2</th>\n",
       "      <td>7</td>\n",
       "      <td>message</td>\n",
       "      <td>2020-01-27T23:08:13</td>\n",
       "      <td>2020-01-27</td>\n",
       "      <td>23:08:13</td>\n",
       "    </tr>\n",
       "    <tr>\n",
       "      <th>3</th>\n",
       "      <td>8</td>\n",
       "      <td>message</td>\n",
       "      <td>2020-01-27T23:12:20</td>\n",
       "      <td>2020-01-27</td>\n",
       "      <td>23:12:20</td>\n",
       "    </tr>\n",
       "    <tr>\n",
       "      <th>4</th>\n",
       "      <td>9</td>\n",
       "      <td>message</td>\n",
       "      <td>2020-01-28T12:08:09</td>\n",
       "      <td>2020-01-28</td>\n",
       "      <td>12:08:09</td>\n",
       "    </tr>\n",
       "    <tr>\n",
       "      <th>...</th>\n",
       "      <td>...</td>\n",
       "      <td>...</td>\n",
       "      <td>...</td>\n",
       "      <td>...</td>\n",
       "      <td>...</td>\n",
       "    </tr>\n",
       "    <tr>\n",
       "      <th>228</th>\n",
       "      <td>249</td>\n",
       "      <td>message</td>\n",
       "      <td>2020-04-18T11:25:10</td>\n",
       "      <td>2020-04-18</td>\n",
       "      <td>11:25:10</td>\n",
       "    </tr>\n",
       "    <tr>\n",
       "      <th>229</th>\n",
       "      <td>250</td>\n",
       "      <td>message</td>\n",
       "      <td>2020-04-18T11:25:17</td>\n",
       "      <td>2020-04-18</td>\n",
       "      <td>11:25:17</td>\n",
       "    </tr>\n",
       "    <tr>\n",
       "      <th>230</th>\n",
       "      <td>251</td>\n",
       "      <td>message</td>\n",
       "      <td>2020-04-18T14:06:51</td>\n",
       "      <td>2020-04-18</td>\n",
       "      <td>14:06:51</td>\n",
       "    </tr>\n",
       "    <tr>\n",
       "      <th>231</th>\n",
       "      <td>252</td>\n",
       "      <td>message</td>\n",
       "      <td>2020-04-19T23:53:08</td>\n",
       "      <td>2020-04-19</td>\n",
       "      <td>23:53:08</td>\n",
       "    </tr>\n",
       "    <tr>\n",
       "      <th>232</th>\n",
       "      <td>255</td>\n",
       "      <td>message</td>\n",
       "      <td>2020-04-22T10:30:21</td>\n",
       "      <td>2020-04-22</td>\n",
       "      <td>10:30:21</td>\n",
       "    </tr>\n",
       "  </tbody>\n",
       "</table>\n",
       "<p>233 rows × 5 columns</p>\n",
       "</div>"
      ],
      "text/plain": [
       "      id     type            dateNtime        date      time\n",
       "0      1  service  2020-01-27T19:28:32  2020-01-27  19:28:32\n",
       "1      6  message  2020-01-27T23:07:42  2020-01-27  23:07:42\n",
       "2      7  message  2020-01-27T23:08:13  2020-01-27  23:08:13\n",
       "3      8  message  2020-01-27T23:12:20  2020-01-27  23:12:20\n",
       "4      9  message  2020-01-28T12:08:09  2020-01-28  12:08:09\n",
       "..   ...      ...                  ...         ...       ...\n",
       "228  249  message  2020-04-18T11:25:10  2020-04-18  11:25:10\n",
       "229  250  message  2020-04-18T11:25:17  2020-04-18  11:25:17\n",
       "230  251  message  2020-04-18T14:06:51  2020-04-18  14:06:51\n",
       "231  252  message  2020-04-19T23:53:08  2020-04-19  23:53:08\n",
       "232  255  message  2020-04-22T10:30:21  2020-04-22  10:30:21\n",
       "\n",
       "[233 rows x 5 columns]"
      ]
     },
     "execution_count": 2,
     "metadata": {},
     "output_type": "execute_result"
    }
   ],
   "source": [
    "data=pd.read_csv('dataNew2.csv')\n",
    "data    # Have a look on data"
   ]
  },
  {
   "cell_type": "markdown",
   "metadata": {},
   "source": [
    "The above data is slightly modified by me, the actual data only had 'dataNtime' column so I used Python to split date and time in different columns. That's basic programming you can try it later."
   ]
  },
  {
   "cell_type": "markdown",
   "metadata": {},
   "source": [
    "Now first we have to convert individual 'date' into in 'day', so that it would be easy to analyse day wise pattern instead of date wise. So this can be easily done using a program that I found from GeeksforGeeks https://www.geeksforgeeks.org/find-day-of-the-week-for-a-given-date/"
   ]
  },
  {
   "cell_type": "code",
   "execution_count": 3,
   "metadata": {},
   "outputs": [],
   "source": [
    "def dayofweek(d, m, y): \n",
    "    t = [ 0, 3, 2, 5, 0, 3, \n",
    "          5, 1, 4, 6, 2, 4 ] \n",
    "    y -= m < 3\n",
    "    return (( y + int(y / 4) - int(y / 100) \n",
    "             + int(y / 400) + t[m - 1] + d) % 7) \n",
    "\n",
    "def dateDifussion(data):\n",
    "      # data = \"2020-01-27\"    # This is how out date looks like\n",
    "      date=data.split('-')     # Spliting it into different digits\n",
    "      # print(date)            # Output => ['2020','01','27']     Note: List values are still a string datatype \n",
    "      day = dayofweek(int(date[2]), int(date[1]), int(date[0])) \n",
    "      return day"
   ]
  },
  {
   "cell_type": "code",
   "execution_count": 4,
   "metadata": {},
   "outputs": [
    {
     "data": {
      "text/plain": [
       "[1,\n",
       " 1,\n",
       " 1,\n",
       " 1,\n",
       " 2,\n",
       " 2,\n",
       " 2,\n",
       " 2,\n",
       " 2,\n",
       " 2,\n",
       " 2,\n",
       " 2,\n",
       " 2,\n",
       " 2,\n",
       " 2,\n",
       " 2,\n",
       " 2,\n",
       " 2,\n",
       " 2,\n",
       " 2,\n",
       " 2,\n",
       " 2,\n",
       " 2,\n",
       " 2,\n",
       " 2,\n",
       " 2,\n",
       " 2,\n",
       " 2,\n",
       " 2,\n",
       " 2,\n",
       " 2,\n",
       " 2,\n",
       " 2,\n",
       " 2,\n",
       " 2,\n",
       " 2,\n",
       " 2,\n",
       " 2,\n",
       " 2,\n",
       " 2,\n",
       " 2,\n",
       " 2,\n",
       " 2,\n",
       " 2,\n",
       " 2,\n",
       " 2,\n",
       " 2,\n",
       " 2,\n",
       " 2,\n",
       " 2,\n",
       " 2,\n",
       " 2,\n",
       " 2,\n",
       " 2,\n",
       " 2,\n",
       " 2,\n",
       " 2,\n",
       " 2,\n",
       " 2,\n",
       " 2,\n",
       " 2,\n",
       " 2,\n",
       " 2,\n",
       " 2,\n",
       " 2,\n",
       " 2,\n",
       " 2,\n",
       " 2,\n",
       " 5,\n",
       " 5,\n",
       " 5,\n",
       " 5,\n",
       " 1,\n",
       " 1,\n",
       " 1,\n",
       " 1,\n",
       " 1,\n",
       " 1,\n",
       " 1,\n",
       " 1,\n",
       " 1,\n",
       " 1,\n",
       " 1,\n",
       " 1,\n",
       " 1,\n",
       " 1,\n",
       " 1,\n",
       " 1,\n",
       " 1,\n",
       " 1,\n",
       " 1,\n",
       " 1,\n",
       " 1,\n",
       " 1,\n",
       " 1,\n",
       " 1,\n",
       " 1,\n",
       " 1,\n",
       " 1,\n",
       " 1,\n",
       " 1,\n",
       " 5,\n",
       " 5,\n",
       " 5,\n",
       " 5,\n",
       " 5,\n",
       " 5,\n",
       " 5,\n",
       " 5,\n",
       " 5,\n",
       " 5,\n",
       " 5,\n",
       " 5,\n",
       " 5,\n",
       " 5,\n",
       " 5,\n",
       " 5,\n",
       " 5,\n",
       " 5,\n",
       " 5,\n",
       " 5,\n",
       " 5,\n",
       " 5,\n",
       " 5,\n",
       " 5,\n",
       " 5,\n",
       " 5,\n",
       " 5,\n",
       " 5,\n",
       " 5,\n",
       " 5,\n",
       " 5,\n",
       " 5,\n",
       " 5,\n",
       " 5,\n",
       " 5,\n",
       " 5,\n",
       " 5,\n",
       " 6,\n",
       " 6,\n",
       " 2,\n",
       " 2,\n",
       " 2,\n",
       " 2,\n",
       " 3,\n",
       " 3,\n",
       " 3,\n",
       " 3,\n",
       " 4,\n",
       " 1,\n",
       " 1,\n",
       " 1,\n",
       " 1,\n",
       " 3,\n",
       " 3,\n",
       " 3,\n",
       " 3,\n",
       " 2,\n",
       " 2,\n",
       " 2,\n",
       " 2,\n",
       " 2,\n",
       " 2,\n",
       " 2,\n",
       " 2,\n",
       " 2,\n",
       " 2,\n",
       " 3,\n",
       " 3,\n",
       " 3,\n",
       " 4,\n",
       " 4,\n",
       " 4,\n",
       " 4,\n",
       " 4,\n",
       " 5,\n",
       " 5,\n",
       " 5,\n",
       " 5,\n",
       " 5,\n",
       " 5,\n",
       " 5,\n",
       " 0,\n",
       " 2,\n",
       " 3,\n",
       " 4,\n",
       " 4,\n",
       " 5,\n",
       " 1,\n",
       " 2,\n",
       " 3,\n",
       " 3,\n",
       " 3,\n",
       " 3,\n",
       " 3,\n",
       " 3,\n",
       " 3,\n",
       " 3,\n",
       " 3,\n",
       " 4,\n",
       " 4,\n",
       " 4,\n",
       " 4,\n",
       " 4,\n",
       " 4,\n",
       " 4,\n",
       " 4,\n",
       " 4,\n",
       " 4,\n",
       " 5,\n",
       " 5,\n",
       " 5,\n",
       " 5,\n",
       " 5,\n",
       " 6,\n",
       " 1,\n",
       " 2,\n",
       " 2,\n",
       " 4,\n",
       " 5,\n",
       " 6,\n",
       " 0,\n",
       " 2,\n",
       " 3,\n",
       " 2,\n",
       " 3,\n",
       " 3,\n",
       " 3,\n",
       " 6,\n",
       " 6,\n",
       " 6,\n",
       " 0,\n",
       " 3]"
      ]
     },
     "execution_count": 4,
     "metadata": {},
     "output_type": "execute_result"
    }
   ],
   "source": [
    "days=[]\n",
    "for i in data['date'].values:\n",
    "      #print(i)      # For Debugging\n",
    "      days.append(dateDifussion(i))\n",
    "days             #Lets see our converted day "
   ]
  },
  {
   "cell_type": "code",
   "execution_count": 5,
   "metadata": {},
   "outputs": [
    {
     "data": {
      "text/html": [
       "<div>\n",
       "<style scoped>\n",
       "    .dataframe tbody tr th:only-of-type {\n",
       "        vertical-align: middle;\n",
       "    }\n",
       "\n",
       "    .dataframe tbody tr th {\n",
       "        vertical-align: top;\n",
       "    }\n",
       "\n",
       "    .dataframe thead th {\n",
       "        text-align: right;\n",
       "    }\n",
       "</style>\n",
       "<table border=\"1\" class=\"dataframe\">\n",
       "  <thead>\n",
       "    <tr style=\"text-align: right;\">\n",
       "      <th></th>\n",
       "      <th>id</th>\n",
       "      <th>type</th>\n",
       "      <th>dateNtime</th>\n",
       "      <th>date</th>\n",
       "      <th>time</th>\n",
       "      <th>days</th>\n",
       "    </tr>\n",
       "  </thead>\n",
       "  <tbody>\n",
       "    <tr>\n",
       "      <th>0</th>\n",
       "      <td>1</td>\n",
       "      <td>service</td>\n",
       "      <td>2020-01-27T19:28:32</td>\n",
       "      <td>2020-01-27</td>\n",
       "      <td>19:28:32</td>\n",
       "      <td>1</td>\n",
       "    </tr>\n",
       "    <tr>\n",
       "      <th>1</th>\n",
       "      <td>6</td>\n",
       "      <td>message</td>\n",
       "      <td>2020-01-27T23:07:42</td>\n",
       "      <td>2020-01-27</td>\n",
       "      <td>23:07:42</td>\n",
       "      <td>1</td>\n",
       "    </tr>\n",
       "    <tr>\n",
       "      <th>2</th>\n",
       "      <td>7</td>\n",
       "      <td>message</td>\n",
       "      <td>2020-01-27T23:08:13</td>\n",
       "      <td>2020-01-27</td>\n",
       "      <td>23:08:13</td>\n",
       "      <td>1</td>\n",
       "    </tr>\n",
       "    <tr>\n",
       "      <th>3</th>\n",
       "      <td>8</td>\n",
       "      <td>message</td>\n",
       "      <td>2020-01-27T23:12:20</td>\n",
       "      <td>2020-01-27</td>\n",
       "      <td>23:12:20</td>\n",
       "      <td>1</td>\n",
       "    </tr>\n",
       "    <tr>\n",
       "      <th>4</th>\n",
       "      <td>9</td>\n",
       "      <td>message</td>\n",
       "      <td>2020-01-28T12:08:09</td>\n",
       "      <td>2020-01-28</td>\n",
       "      <td>12:08:09</td>\n",
       "      <td>2</td>\n",
       "    </tr>\n",
       "    <tr>\n",
       "      <th>...</th>\n",
       "      <td>...</td>\n",
       "      <td>...</td>\n",
       "      <td>...</td>\n",
       "      <td>...</td>\n",
       "      <td>...</td>\n",
       "      <td>...</td>\n",
       "    </tr>\n",
       "    <tr>\n",
       "      <th>228</th>\n",
       "      <td>249</td>\n",
       "      <td>message</td>\n",
       "      <td>2020-04-18T11:25:10</td>\n",
       "      <td>2020-04-18</td>\n",
       "      <td>11:25:10</td>\n",
       "      <td>6</td>\n",
       "    </tr>\n",
       "    <tr>\n",
       "      <th>229</th>\n",
       "      <td>250</td>\n",
       "      <td>message</td>\n",
       "      <td>2020-04-18T11:25:17</td>\n",
       "      <td>2020-04-18</td>\n",
       "      <td>11:25:17</td>\n",
       "      <td>6</td>\n",
       "    </tr>\n",
       "    <tr>\n",
       "      <th>230</th>\n",
       "      <td>251</td>\n",
       "      <td>message</td>\n",
       "      <td>2020-04-18T14:06:51</td>\n",
       "      <td>2020-04-18</td>\n",
       "      <td>14:06:51</td>\n",
       "      <td>6</td>\n",
       "    </tr>\n",
       "    <tr>\n",
       "      <th>231</th>\n",
       "      <td>252</td>\n",
       "      <td>message</td>\n",
       "      <td>2020-04-19T23:53:08</td>\n",
       "      <td>2020-04-19</td>\n",
       "      <td>23:53:08</td>\n",
       "      <td>0</td>\n",
       "    </tr>\n",
       "    <tr>\n",
       "      <th>232</th>\n",
       "      <td>255</td>\n",
       "      <td>message</td>\n",
       "      <td>2020-04-22T10:30:21</td>\n",
       "      <td>2020-04-22</td>\n",
       "      <td>10:30:21</td>\n",
       "      <td>3</td>\n",
       "    </tr>\n",
       "  </tbody>\n",
       "</table>\n",
       "<p>233 rows × 6 columns</p>\n",
       "</div>"
      ],
      "text/plain": [
       "      id     type            dateNtime        date      time  days\n",
       "0      1  service  2020-01-27T19:28:32  2020-01-27  19:28:32     1\n",
       "1      6  message  2020-01-27T23:07:42  2020-01-27  23:07:42     1\n",
       "2      7  message  2020-01-27T23:08:13  2020-01-27  23:08:13     1\n",
       "3      8  message  2020-01-27T23:12:20  2020-01-27  23:12:20     1\n",
       "4      9  message  2020-01-28T12:08:09  2020-01-28  12:08:09     2\n",
       "..   ...      ...                  ...         ...       ...   ...\n",
       "228  249  message  2020-04-18T11:25:10  2020-04-18  11:25:10     6\n",
       "229  250  message  2020-04-18T11:25:17  2020-04-18  11:25:17     6\n",
       "230  251  message  2020-04-18T14:06:51  2020-04-18  14:06:51     6\n",
       "231  252  message  2020-04-19T23:53:08  2020-04-19  23:53:08     0\n",
       "232  255  message  2020-04-22T10:30:21  2020-04-22  10:30:21     3\n",
       "\n",
       "[233 rows x 6 columns]"
      ]
     },
     "execution_count": 5,
     "metadata": {},
     "output_type": "execute_result"
    }
   ],
   "source": [
    "data['days']=days    #Adding new column to data\n",
    "data"
   ]
  },
  {
   "cell_type": "markdown",
   "metadata": {},
   "source": [
    "Yes we did it!!! now have a look on time format, its in HH:MM:SS we can split it into HHMM for easy plotting.\n",
    "This can be done by basic string formatting rule of python, so not a big concern. \n",
    "\n",
    "[Note]\n",
    "Thing to keep in mind that the 60 min make an hour, but while plotting in HHMM format then there would be an invalid gap between HH61 to HH99. So to reduce the invalidity we have to make sure that Minute is redefined."
   ]
  },
  {
   "cell_type": "code",
   "execution_count": 6,
   "metadata": {},
   "outputs": [
    {
     "data": {
      "text/plain": [
       "[1947,\n",
       " 2312,\n",
       " 2313,\n",
       " 2320,\n",
       " 1213,\n",
       " 1213,\n",
       " 1213,\n",
       " 1213,\n",
       " 1213,\n",
       " 1213,\n",
       " 1213,\n",
       " 1213,\n",
       " 1213,\n",
       " 1213,\n",
       " 1213,\n",
       " 1213,\n",
       " 1213,\n",
       " 1213,\n",
       " 1213,\n",
       " 1213,\n",
       " 1213,\n",
       " 1213,\n",
       " 1213,\n",
       " 1213,\n",
       " 1215,\n",
       " 1222,\n",
       " 1222,\n",
       " 1222,\n",
       " 1222,\n",
       " 1222,\n",
       " 1222,\n",
       " 1222,\n",
       " 1222,\n",
       " 1222,\n",
       " 1282,\n",
       " 1282,\n",
       " 1282,\n",
       " 1282,\n",
       " 1282,\n",
       " 1282,\n",
       " 1282,\n",
       " 1282,\n",
       " 1282,\n",
       " 1282,\n",
       " 1282,\n",
       " 1282,\n",
       " 1282,\n",
       " 1282,\n",
       " 1282,\n",
       " 1283,\n",
       " 1283,\n",
       " 1292,\n",
       " 1292,\n",
       " 1292,\n",
       " 1297,\n",
       " 1297,\n",
       " 132,\n",
       " 132,\n",
       " 1312,\n",
       " 1313,\n",
       " 1330,\n",
       " 1330,\n",
       " 1790,\n",
       " 1790,\n",
       " 1838,\n",
       " 1840,\n",
       " 1877,\n",
       " 1878,\n",
       " 1255,\n",
       " 1255,\n",
       " 1255,\n",
       " 1255,\n",
       " 177,\n",
       " 178,\n",
       " 178,\n",
       " 178,\n",
       " 178,\n",
       " 1730,\n",
       " 1732,\n",
       " 1732,\n",
       " 1732,\n",
       " 1732,\n",
       " 1732,\n",
       " 1733,\n",
       " 1733,\n",
       " 1733,\n",
       " 1733,\n",
       " 1733,\n",
       " 1733,\n",
       " 1735,\n",
       " 1735,\n",
       " 1735,\n",
       " 1735,\n",
       " 1735,\n",
       " 1735,\n",
       " 1735,\n",
       " 1735,\n",
       " 1737,\n",
       " 1737,\n",
       " 1737,\n",
       " 1737,\n",
       " 1230,\n",
       " 1230,\n",
       " 1232,\n",
       " 1232,\n",
       " 1232,\n",
       " 1232,\n",
       " 1233,\n",
       " 1233,\n",
       " 1233,\n",
       " 1233,\n",
       " 1233,\n",
       " 1233,\n",
       " 1233,\n",
       " 1233,\n",
       " 1235,\n",
       " 1235,\n",
       " 1235,\n",
       " 1235,\n",
       " 1235,\n",
       " 1235,\n",
       " 1235,\n",
       " 1235,\n",
       " 1237,\n",
       " 1237,\n",
       " 1237,\n",
       " 1237,\n",
       " 1237,\n",
       " 1237,\n",
       " 1242,\n",
       " 1243,\n",
       " 1243,\n",
       " 1243,\n",
       " 1243,\n",
       " 1243,\n",
       " 1243,\n",
       " 1243,\n",
       " 1243,\n",
       " 2238,\n",
       " 2238,\n",
       " 1888,\n",
       " 1888,\n",
       " 1893,\n",
       " 1893,\n",
       " 1840,\n",
       " 1840,\n",
       " 1840,\n",
       " 1840,\n",
       " 1883,\n",
       " 1758,\n",
       " 1758,\n",
       " 1758,\n",
       " 1758,\n",
       " 1090,\n",
       " 1090,\n",
       " 1722,\n",
       " 1737,\n",
       " 873,\n",
       " 873,\n",
       " 873,\n",
       " 873,\n",
       " 873,\n",
       " 873,\n",
       " 98,\n",
       " 912,\n",
       " 913,\n",
       " 942,\n",
       " 1823,\n",
       " 1823,\n",
       " 1825,\n",
       " 1317,\n",
       " 1385,\n",
       " 1472,\n",
       " 1710,\n",
       " 235,\n",
       " 1152,\n",
       " 1278,\n",
       " 138,\n",
       " 1378,\n",
       " 1835,\n",
       " 1868,\n",
       " 2277,\n",
       " 1048,\n",
       " 1272,\n",
       " 1557,\n",
       " 1478,\n",
       " 1537,\n",
       " 1573,\n",
       " 1198,\n",
       " 1772,\n",
       " 95,\n",
       " 1115,\n",
       " 1268,\n",
       " 1920,\n",
       " 1920,\n",
       " 1922,\n",
       " 2137,\n",
       " 2137,\n",
       " 2137,\n",
       " 93,\n",
       " 983,\n",
       " 1322,\n",
       " 1322,\n",
       " 1322,\n",
       " 1338,\n",
       " 1455,\n",
       " 1485,\n",
       " 1848,\n",
       " 2217,\n",
       " 142,\n",
       " 1085,\n",
       " 1248,\n",
       " 1773,\n",
       " 1773,\n",
       " 2323,\n",
       " 1217,\n",
       " 1013,\n",
       " 1242,\n",
       " 1193,\n",
       " 1720,\n",
       " 2288,\n",
       " 1085,\n",
       " 1267,\n",
       " 1323,\n",
       " 2347,\n",
       " 1147,\n",
       " 1147,\n",
       " 1147,\n",
       " 1142,\n",
       " 1142,\n",
       " 1410,\n",
       " 2388,\n",
       " 1050]"
      ]
     },
     "execution_count": 6,
     "metadata": {},
     "output_type": "execute_result"
    }
   ],
   "source": [
    "timeNew=[]\n",
    "for i in data['time'].values:\n",
    "    i=i.replace(':','')\n",
    "    i=i[:-2]\n",
    "    \n",
    "    #new change in note\n",
    "    mint=i[2:]\n",
    "    mint=int(mint)/60*100\n",
    "    mint=round(mint,0)\n",
    "    mint=int(mint)\n",
    "    \n",
    "    i_new=i[:-2]+str(mint)\n",
    "    #print(i_new)    \n",
    "    timeNew.append(int(i_new))\n",
    "    #timeNew.append(int(i))\n",
    "timeNew          #New time format"
   ]
  },
  {
   "cell_type": "code",
   "execution_count": 7,
   "metadata": {},
   "outputs": [
    {
     "data": {
      "text/html": [
       "<div>\n",
       "<style scoped>\n",
       "    .dataframe tbody tr th:only-of-type {\n",
       "        vertical-align: middle;\n",
       "    }\n",
       "\n",
       "    .dataframe tbody tr th {\n",
       "        vertical-align: top;\n",
       "    }\n",
       "\n",
       "    .dataframe thead th {\n",
       "        text-align: right;\n",
       "    }\n",
       "</style>\n",
       "<table border=\"1\" class=\"dataframe\">\n",
       "  <thead>\n",
       "    <tr style=\"text-align: right;\">\n",
       "      <th></th>\n",
       "      <th>id</th>\n",
       "      <th>type</th>\n",
       "      <th>dateNtime</th>\n",
       "      <th>date</th>\n",
       "      <th>time</th>\n",
       "      <th>days</th>\n",
       "      <th>timeNew</th>\n",
       "    </tr>\n",
       "  </thead>\n",
       "  <tbody>\n",
       "    <tr>\n",
       "      <th>0</th>\n",
       "      <td>1</td>\n",
       "      <td>service</td>\n",
       "      <td>2020-01-27T19:28:32</td>\n",
       "      <td>2020-01-27</td>\n",
       "      <td>19:28:32</td>\n",
       "      <td>1</td>\n",
       "      <td>1947</td>\n",
       "    </tr>\n",
       "    <tr>\n",
       "      <th>1</th>\n",
       "      <td>6</td>\n",
       "      <td>message</td>\n",
       "      <td>2020-01-27T23:07:42</td>\n",
       "      <td>2020-01-27</td>\n",
       "      <td>23:07:42</td>\n",
       "      <td>1</td>\n",
       "      <td>2312</td>\n",
       "    </tr>\n",
       "    <tr>\n",
       "      <th>2</th>\n",
       "      <td>7</td>\n",
       "      <td>message</td>\n",
       "      <td>2020-01-27T23:08:13</td>\n",
       "      <td>2020-01-27</td>\n",
       "      <td>23:08:13</td>\n",
       "      <td>1</td>\n",
       "      <td>2313</td>\n",
       "    </tr>\n",
       "    <tr>\n",
       "      <th>3</th>\n",
       "      <td>8</td>\n",
       "      <td>message</td>\n",
       "      <td>2020-01-27T23:12:20</td>\n",
       "      <td>2020-01-27</td>\n",
       "      <td>23:12:20</td>\n",
       "      <td>1</td>\n",
       "      <td>2320</td>\n",
       "    </tr>\n",
       "    <tr>\n",
       "      <th>4</th>\n",
       "      <td>9</td>\n",
       "      <td>message</td>\n",
       "      <td>2020-01-28T12:08:09</td>\n",
       "      <td>2020-01-28</td>\n",
       "      <td>12:08:09</td>\n",
       "      <td>2</td>\n",
       "      <td>1213</td>\n",
       "    </tr>\n",
       "    <tr>\n",
       "      <th>...</th>\n",
       "      <td>...</td>\n",
       "      <td>...</td>\n",
       "      <td>...</td>\n",
       "      <td>...</td>\n",
       "      <td>...</td>\n",
       "      <td>...</td>\n",
       "      <td>...</td>\n",
       "    </tr>\n",
       "    <tr>\n",
       "      <th>228</th>\n",
       "      <td>249</td>\n",
       "      <td>message</td>\n",
       "      <td>2020-04-18T11:25:10</td>\n",
       "      <td>2020-04-18</td>\n",
       "      <td>11:25:10</td>\n",
       "      <td>6</td>\n",
       "      <td>1142</td>\n",
       "    </tr>\n",
       "    <tr>\n",
       "      <th>229</th>\n",
       "      <td>250</td>\n",
       "      <td>message</td>\n",
       "      <td>2020-04-18T11:25:17</td>\n",
       "      <td>2020-04-18</td>\n",
       "      <td>11:25:17</td>\n",
       "      <td>6</td>\n",
       "      <td>1142</td>\n",
       "    </tr>\n",
       "    <tr>\n",
       "      <th>230</th>\n",
       "      <td>251</td>\n",
       "      <td>message</td>\n",
       "      <td>2020-04-18T14:06:51</td>\n",
       "      <td>2020-04-18</td>\n",
       "      <td>14:06:51</td>\n",
       "      <td>6</td>\n",
       "      <td>1410</td>\n",
       "    </tr>\n",
       "    <tr>\n",
       "      <th>231</th>\n",
       "      <td>252</td>\n",
       "      <td>message</td>\n",
       "      <td>2020-04-19T23:53:08</td>\n",
       "      <td>2020-04-19</td>\n",
       "      <td>23:53:08</td>\n",
       "      <td>0</td>\n",
       "      <td>2388</td>\n",
       "    </tr>\n",
       "    <tr>\n",
       "      <th>232</th>\n",
       "      <td>255</td>\n",
       "      <td>message</td>\n",
       "      <td>2020-04-22T10:30:21</td>\n",
       "      <td>2020-04-22</td>\n",
       "      <td>10:30:21</td>\n",
       "      <td>3</td>\n",
       "      <td>1050</td>\n",
       "    </tr>\n",
       "  </tbody>\n",
       "</table>\n",
       "<p>233 rows × 7 columns</p>\n",
       "</div>"
      ],
      "text/plain": [
       "      id     type            dateNtime        date      time  days  timeNew\n",
       "0      1  service  2020-01-27T19:28:32  2020-01-27  19:28:32     1     1947\n",
       "1      6  message  2020-01-27T23:07:42  2020-01-27  23:07:42     1     2312\n",
       "2      7  message  2020-01-27T23:08:13  2020-01-27  23:08:13     1     2313\n",
       "3      8  message  2020-01-27T23:12:20  2020-01-27  23:12:20     1     2320\n",
       "4      9  message  2020-01-28T12:08:09  2020-01-28  12:08:09     2     1213\n",
       "..   ...      ...                  ...         ...       ...   ...      ...\n",
       "228  249  message  2020-04-18T11:25:10  2020-04-18  11:25:10     6     1142\n",
       "229  250  message  2020-04-18T11:25:17  2020-04-18  11:25:17     6     1142\n",
       "230  251  message  2020-04-18T14:06:51  2020-04-18  14:06:51     6     1410\n",
       "231  252  message  2020-04-19T23:53:08  2020-04-19  23:53:08     0     2388\n",
       "232  255  message  2020-04-22T10:30:21  2020-04-22  10:30:21     3     1050\n",
       "\n",
       "[233 rows x 7 columns]"
      ]
     },
     "execution_count": 7,
     "metadata": {},
     "output_type": "execute_result"
    }
   ],
   "source": [
    "data['timeNew']=timeNew     #Adding new column for our new time data\n",
    "data"
   ]
  },
  {
   "cell_type": "markdown",
   "metadata": {},
   "source": [
    "### Plotting Data"
   ]
  },
  {
   "cell_type": "markdown",
   "metadata": {},
   "source": [
    "Enough data processing now it's time to plot"
   ]
  },
  {
   "cell_type": "code",
   "execution_count": 8,
   "metadata": {
    "scrolled": true
   },
   "outputs": [
    {
     "data": {
      "image/png": "[encoded data removed]",
      "text/plain": [
       "<Figure size 432x288 with 1 Axes>"
      ]
     },
     "metadata": {},
     "output_type": "display_data"
    }
   ],
   "source": [
    "plt.scatter(data['timeNew'],data['days'])\n",
    "plt.xlabel('Time in 24hr Format')\n",
    "plt.ylabel('Sun to Sat')\n",
    "plt.xlim(0, 2400)\n",
    "plt.show()"
   ]
  },
  {
   "attachments": {
    "download%20%281%29.png": {
     "image/png": "[encoded data removed]"
    }
   },
   "cell_type": "markdown",
   "metadata": {},
   "source": [
    "Now you can clearly understand why I prefered clustering for this senario.\n",
    "![download%20%281%29.png](attachment:download%20%281%29.png)\n",
    "Now how many clusters would be required. This issue can be later resolved by 'Elbow Method'."
   ]
  },
  {
   "cell_type": "markdown",
   "metadata": {},
   "source": [
    "### KMeans for Clustering"
   ]
  },
  {
   "cell_type": "markdown",
   "metadata": {},
   "source": [
    "\n",
    "For now import lets import K-Means for clustering the datapoints."
   ]
  },
  {
   "cell_type": "code",
   "execution_count": 9,
   "metadata": {},
   "outputs": [],
   "source": [
    "from sklearn.cluster import KMeans"
   ]
  },
  {
   "cell_type": "code",
   "execution_count": 10,
   "metadata": {},
   "outputs": [
    {
     "data": {
      "text/html": [
       "<div>\n",
       "<style scoped>\n",
       "    .dataframe tbody tr th:only-of-type {\n",
       "        vertical-align: middle;\n",
       "    }\n",
       "\n",
       "    .dataframe tbody tr th {\n",
       "        vertical-align: top;\n",
       "    }\n",
       "\n",
       "    .dataframe thead th {\n",
       "        text-align: right;\n",
       "    }\n",
       "</style>\n",
       "<table border=\"1\" class=\"dataframe\">\n",
       "  <thead>\n",
       "    <tr style=\"text-align: right;\">\n",
       "      <th></th>\n",
       "      <th>timeNew</th>\n",
       "    </tr>\n",
       "  </thead>\n",
       "  <tbody>\n",
       "    <tr>\n",
       "      <th>0</th>\n",
       "      <td>1947</td>\n",
       "    </tr>\n",
       "    <tr>\n",
       "      <th>1</th>\n",
       "      <td>2312</td>\n",
       "    </tr>\n",
       "    <tr>\n",
       "      <th>2</th>\n",
       "      <td>2313</td>\n",
       "    </tr>\n",
       "    <tr>\n",
       "      <th>3</th>\n",
       "      <td>2320</td>\n",
       "    </tr>\n",
       "    <tr>\n",
       "      <th>4</th>\n",
       "      <td>1213</td>\n",
       "    </tr>\n",
       "    <tr>\n",
       "      <th>...</th>\n",
       "      <td>...</td>\n",
       "    </tr>\n",
       "    <tr>\n",
       "      <th>228</th>\n",
       "      <td>1142</td>\n",
       "    </tr>\n",
       "    <tr>\n",
       "      <th>229</th>\n",
       "      <td>1142</td>\n",
       "    </tr>\n",
       "    <tr>\n",
       "      <th>230</th>\n",
       "      <td>1410</td>\n",
       "    </tr>\n",
       "    <tr>\n",
       "      <th>231</th>\n",
       "      <td>2388</td>\n",
       "    </tr>\n",
       "    <tr>\n",
       "      <th>232</th>\n",
       "      <td>1050</td>\n",
       "    </tr>\n",
       "  </tbody>\n",
       "</table>\n",
       "<p>233 rows × 1 columns</p>\n",
       "</div>"
      ],
      "text/plain": [
       "     timeNew\n",
       "0       1947\n",
       "1       2312\n",
       "2       2313\n",
       "3       2320\n",
       "4       1213\n",
       "..       ...\n",
       "228     1142\n",
       "229     1142\n",
       "230     1410\n",
       "231     2388\n",
       "232     1050\n",
       "\n",
       "[233 rows x 1 columns]"
      ]
     },
     "execution_count": 10,
     "metadata": {},
     "output_type": "execute_result"
    }
   ],
   "source": [
    "#Defining our variables for clustering\n",
    "x=pd.DataFrame(data, columns = ['timeNew'])\n",
    "x"
   ]
  },
  {
   "cell_type": "markdown",
   "metadata": {},
   "source": [
    "Lets choose number of clusters to be 3, that is my routine of making server live."
   ]
  },
  {
   "cell_type": "code",
   "execution_count": 11,
   "metadata": {},
   "outputs": [
    {
     "data": {
      "text/plain": [
       "KMeans(algorithm='auto', copy_x=True, init='k-means++', max_iter=300,\n",
       "       n_clusters=3, n_init=10, n_jobs=None, precompute_distances='auto',\n",
       "       random_state=None, tol=0.0001, verbose=0)"
      ]
     },
     "execution_count": 11,
     "metadata": {},
     "output_type": "execute_result"
    }
   ],
   "source": [
    "kmeans=KMeans(3)\n",
    "kmeans.fit(x)"
   ]
  },
  {
   "cell_type": "code",
   "execution_count": 12,
   "metadata": {},
   "outputs": [],
   "source": [
    "#Predicting the Cluster and storing it in a new coloumn named 'Cluster'\n",
    "data['cluster']=kmeans.fit_predict(x)"
   ]
  },
  {
   "cell_type": "code",
   "execution_count": 13,
   "metadata": {},
   "outputs": [
    {
     "data": {
      "image/png": "[encoded data removed]",
      "text/plain": [
       "<Figure size 432x288 with 1 Axes>"
      ]
     },
     "metadata": {},
     "output_type": "display_data"
    }
   ],
   "source": [
    "#Plotting the Cluster\n",
    "plt.scatter(data['timeNew'],data['days'],c=data['cluster'],cmap='rainbow')\n",
    "plt.xlabel('Time in 24hr Format')\n",
    "plt.ylabel('Sun to Sat')\n",
    "plt.xlim(0, 2400)\n",
    "plt.show()"
   ]
  },
  {
   "cell_type": "markdown",
   "metadata": {},
   "source": [
    "### Elbow Method"
   ]
  },
  {
   "cell_type": "markdown",
   "metadata": {},
   "source": [
    "In cluster analysis, the elbow method is a heuristic used in determining the number of clusters in a data set. The method consists of plotting the explained variation as a function of the number of clusters, and picking the elbow of the curve as the number of clusters to use"
   ]
  },
  {
   "cell_type": "code",
   "execution_count": 14,
   "metadata": {},
   "outputs": [],
   "source": [
    "# This is for storing the value the WCSS value.\n",
    "# WCSS is the sum of squares of the distances of each data point in all clusters to their respective centroids. \n",
    "# The idea is to minimise the sum\n",
    "wcss=[]\n",
    "cluster_num = 10   #defining the number of clusters. Usually a larger assumption than general"
   ]
  },
  {
   "cell_type": "code",
   "execution_count": 15,
   "metadata": {},
   "outputs": [
    {
     "data": {
      "text/plain": [
       "array([[ 1.2813614 ],\n",
       "       [ 2.09740301],\n",
       "       [ 2.09963874],\n",
       "       [ 2.11528885],\n",
       "       [-0.35966474],\n",
       "       [-0.35966474],\n",
       "       [-0.35966474],\n",
       "       [-0.35966474],\n",
       "       [-0.35966474],\n",
       "       [-0.35966474],\n",
       "       [-0.35966474],\n",
       "       [-0.35966474],\n",
       "       [-0.35966474],\n",
       "       [-0.35966474],\n",
       "       [-0.35966474],\n",
       "       [-0.35966474],\n",
       "       [-0.35966474],\n",
       "       [-0.35966474],\n",
       "       [-0.35966474],\n",
       "       [-0.35966474],\n",
       "       [-0.35966474],\n",
       "       [-0.35966474],\n",
       "       [-0.35966474],\n",
       "       [-0.35966474],\n",
       "       [-0.35519328],\n",
       "       [-0.33954316],\n",
       "       [-0.33954316],\n",
       "       [-0.33954316],\n",
       "       [-0.33954316],\n",
       "       [-0.33954316],\n",
       "       [-0.33954316],\n",
       "       [-0.33954316],\n",
       "       [-0.33954316],\n",
       "       [-0.33954316],\n",
       "       [-0.20539934],\n",
       "       [-0.20539934],\n",
       "       [-0.20539934],\n",
       "       [-0.20539934],\n",
       "       [-0.20539934],\n",
       "       [-0.20539934],\n",
       "       [-0.20539934],\n",
       "       [-0.20539934],\n",
       "       [-0.20539934],\n",
       "       [-0.20539934],\n",
       "       [-0.20539934],\n",
       "       [-0.20539934],\n",
       "       [-0.20539934],\n",
       "       [-0.20539934],\n",
       "       [-0.20539934],\n",
       "       [-0.20316361],\n",
       "       [-0.20316361],\n",
       "       [-0.18304203],\n",
       "       [-0.18304203],\n",
       "       [-0.18304203],\n",
       "       [-0.17186338],\n",
       "       [-0.17186338],\n",
       "       [-2.77648934],\n",
       "       [-2.77648934],\n",
       "       [-0.13832742],\n",
       "       [-0.13609169],\n",
       "       [-0.09808428],\n",
       "       [-0.09808428],\n",
       "       [ 0.93035172],\n",
       "       [ 0.93035172],\n",
       "       [ 1.03766678],\n",
       "       [ 1.04213824],\n",
       "       [ 1.12486027],\n",
       "       [ 1.127096  ],\n",
       "       [-0.26576406],\n",
       "       [-0.26576406],\n",
       "       [-0.26576406],\n",
       "       [-0.26576406],\n",
       "       [-2.67588147],\n",
       "       [-2.67364574],\n",
       "       [-2.67364574],\n",
       "       [-2.67364574],\n",
       "       [-2.67364574],\n",
       "       [ 0.7962079 ],\n",
       "       [ 0.80067936],\n",
       "       [ 0.80067936],\n",
       "       [ 0.80067936],\n",
       "       [ 0.80067936],\n",
       "       [ 0.80067936],\n",
       "       [ 0.80291509],\n",
       "       [ 0.80291509],\n",
       "       [ 0.80291509],\n",
       "       [ 0.80291509],\n",
       "       [ 0.80291509],\n",
       "       [ 0.80291509],\n",
       "       [ 0.80738655],\n",
       "       [ 0.80738655],\n",
       "       [ 0.80738655],\n",
       "       [ 0.80738655],\n",
       "       [ 0.80738655],\n",
       "       [ 0.80738655],\n",
       "       [ 0.80738655],\n",
       "       [ 0.80738655],\n",
       "       [ 0.81185801],\n",
       "       [ 0.81185801],\n",
       "       [ 0.81185801],\n",
       "       [ 0.81185801],\n",
       "       [-0.32165732],\n",
       "       [-0.32165732],\n",
       "       [-0.31718586],\n",
       "       [-0.31718586],\n",
       "       [-0.31718586],\n",
       "       [-0.31718586],\n",
       "       [-0.31495013],\n",
       "       [-0.31495013],\n",
       "       [-0.31495013],\n",
       "       [-0.31495013],\n",
       "       [-0.31495013],\n",
       "       [-0.31495013],\n",
       "       [-0.31495013],\n",
       "       [-0.31495013],\n",
       "       [-0.31047867],\n",
       "       [-0.31047867],\n",
       "       [-0.31047867],\n",
       "       [-0.31047867],\n",
       "       [-0.31047867],\n",
       "       [-0.31047867],\n",
       "       [-0.31047867],\n",
       "       [-0.31047867],\n",
       "       [-0.30600721],\n",
       "       [-0.30600721],\n",
       "       [-0.30600721],\n",
       "       [-0.30600721],\n",
       "       [-0.30600721],\n",
       "       [-0.30600721],\n",
       "       [-0.29482855],\n",
       "       [-0.29259282],\n",
       "       [-0.29259282],\n",
       "       [-0.29259282],\n",
       "       [-0.29259282],\n",
       "       [-0.29259282],\n",
       "       [-0.29259282],\n",
       "       [-0.29259282],\n",
       "       [-0.29259282],\n",
       "       [ 1.93195896],\n",
       "       [ 1.93195896],\n",
       "       [ 1.1494533 ],\n",
       "       [ 1.1494533 ],\n",
       "       [ 1.16063196],\n",
       "       [ 1.16063196],\n",
       "       [ 1.04213824],\n",
       "       [ 1.04213824],\n",
       "       [ 1.04213824],\n",
       "       [ 1.04213824],\n",
       "       [ 1.13827465],\n",
       "       [ 0.85880835],\n",
       "       [ 0.85880835],\n",
       "       [ 0.85880835],\n",
       "       [ 0.85880835],\n",
       "       [-0.63465958],\n",
       "       [-0.63465958],\n",
       "       [ 0.77832205],\n",
       "       [ 0.81185801],\n",
       "       [-1.11981308],\n",
       "       [-1.11981308],\n",
       "       [-1.11981308],\n",
       "       [-1.11981308],\n",
       "       [-1.11981308],\n",
       "       [-1.11981308],\n",
       "       [-2.85250417],\n",
       "       [-1.0326196 ],\n",
       "       [-1.03038387],\n",
       "       [-0.96554768],\n",
       "       [ 1.00413083],\n",
       "       [ 1.00413083],\n",
       "       [ 1.00860229],\n",
       "       [-0.12714877],\n",
       "       [ 0.0248809 ],\n",
       "       [ 0.21938944],\n",
       "       [ 0.75149329],\n",
       "       [-2.5462091 ],\n",
       "       [-0.49604429],\n",
       "       [-0.21434226],\n",
       "       [-2.76307495],\n",
       "       [ 0.00923078],\n",
       "       [ 1.03095959],\n",
       "       [ 1.1047387 ],\n",
       "       [ 2.01915244],\n",
       "       [-0.72856026],\n",
       "       [-0.22775664],\n",
       "       [ 0.40942653],\n",
       "       [ 0.23280383],\n",
       "       [ 0.36471192],\n",
       "       [ 0.44519822],\n",
       "       [-0.39320069],\n",
       "       [ 0.89010857],\n",
       "       [-2.85921136],\n",
       "       [-0.57876632],\n",
       "       [-0.23669956],\n",
       "       [ 1.22099668],\n",
       "       [ 1.22099668],\n",
       "       [ 1.22546814],\n",
       "       [ 1.70615018],\n",
       "       [ 1.70615018],\n",
       "       [ 1.70615018],\n",
       "       [-2.86368282],\n",
       "       [-0.87388274],\n",
       "       [-0.11597012],\n",
       "       [-0.11597012],\n",
       "       [-0.11597012],\n",
       "       [-0.08019843],\n",
       "       [ 0.18138203],\n",
       "       [ 0.24845394],\n",
       "       [ 1.06002409],\n",
       "       [ 1.88500862],\n",
       "       [-2.75413203],\n",
       "       [-0.64583823],\n",
       "       [-0.28141417],\n",
       "       [ 0.89234431],\n",
       "       [ 0.89234431],\n",
       "       [ 2.12199604],\n",
       "       [-0.35072182],\n",
       "       [-0.80681082],\n",
       "       [-0.29482855],\n",
       "       [-0.40437935],\n",
       "       [ 0.77385059],\n",
       "       [ 2.04374548],\n",
       "       [-0.64583823],\n",
       "       [-0.23893529],\n",
       "       [-0.11373439],\n",
       "       [ 2.17565357],\n",
       "       [-0.50722295],\n",
       "       [-0.50722295],\n",
       "       [-0.50722295],\n",
       "       [-0.5184016 ],\n",
       "       [-0.5184016 ],\n",
       "       [ 0.08077416],\n",
       "       [ 2.26731852],\n",
       "       [-0.7240888 ]])"
      ]
     },
     "execution_count": 15,
     "metadata": {},
     "output_type": "execute_result"
    }
   ],
   "source": [
    "# We need to standardize the data here\n",
    "# Data standardization is about making sure that data is internally consistent\n",
    "from sklearn import preprocessing\n",
    "x_scaled = preprocessing.scale(x)\n",
    "x_scaled"
   ]
  },
  {
   "cell_type": "code",
   "execution_count": 16,
   "metadata": {},
   "outputs": [
    {
     "data": {
      "text/plain": [
       "[232.99999999999997,\n",
       " 93.32602216791922,\n",
       " 25.15796124771998,\n",
       " 11.830826830615417,\n",
       " 5.701836736702801,\n",
       " 3.811008313870974,\n",
       " 2.6723792686444092,\n",
       " 1.8181460443000073,\n",
       " 1.2567504719270306]"
      ]
     },
     "execution_count": 16,
     "metadata": {},
     "output_type": "execute_result"
    }
   ],
   "source": [
    "# Now we need to check the wcss for every cluster number and store its value\n",
    "for i in range(1,cluster_num):\n",
    "    kmeans=KMeans(i)\n",
    "    kmeans.fit(x_scaled)\n",
    "    wcss_iter = kmeans.inertia_\n",
    "    wcss.append(wcss_iter)\n",
    "wcss           # Here is our wcss array"
   ]
  },
  {
   "cell_type": "code",
   "execution_count": 17,
   "metadata": {},
   "outputs": [
    {
     "data": {
      "text/plain": [
       "Text(0, 0.5, 'Within-cluster Sum of Squares')"
      ]
     },
     "execution_count": 17,
     "metadata": {},
     "output_type": "execute_result"
    },
    {
     "data": {
      "image/png": "[encoded data removed]",
      "text/plain": [
       "<Figure size 432x288 with 1 Axes>"
      ]
     },
     "metadata": {},
     "output_type": "display_data"
    }
   ],
   "source": [
    "# Plotting the WCSS vs No of cluster graph\n",
    "number_clusters = range(1,cluster_num)\n",
    "plt.plot(number_clusters, wcss)\n",
    "plt.title('The Elbow Method')\n",
    "plt.xlabel('Number of clusters')\n",
    "plt.ylabel('Within-cluster Sum of Squares')"
   ]
  },
  {
   "cell_type": "markdown",
   "metadata": {},
   "source": [
    "We can see that Elbow Plot above, we can choose either 3, 4 or 5 as a cluster. Now it depends on the analyst to decide which cluster number to choose. I would recommend to go with 4, because its neither that too edgy nor that flat."
   ]
  },
  {
   "cell_type": "markdown",
   "metadata": {},
   "source": [
    "### Cluster with KMean(4)"
   ]
  },
  {
   "cell_type": "code",
   "execution_count": 18,
   "metadata": {},
   "outputs": [
    {
     "data": {
      "image/png": "[encoded data removed]",
      "text/plain": [
       "<Figure size 432x288 with 1 Axes>"
      ]
     },
     "metadata": {},
     "output_type": "display_data"
    }
   ],
   "source": [
    "kmeans=KMeans(4)\n",
    "kmeans.fit(x)\n",
    "data['cluster']=kmeans.fit_predict(x)\n",
    "plt.scatter(data['timeNew'],data['days'],c=data['cluster'],cmap='rainbow')\n",
    "plt.xlabel('Time in 24hr Format')\n",
    "plt.ylabel('Sun to Sat')\n",
    "plt.xlim(0, 2400)\n",
    "plt.show()"
   ]
  },
  {
   "cell_type": "markdown",
   "metadata": {},
   "source": [
    "Here it is finally! so now get the Centeroid of these groups and lets see how they can be used"
   ]
  },
  {
   "cell_type": "code",
   "execution_count": 19,
   "metadata": {},
   "outputs": [
    {
     "data": {
      "text/plain": [
       "array([[1219.68531469],\n",
       "       [1778.9047619 ],\n",
       "       [ 150.30769231],\n",
       "       [2262.28571429]])"
      ]
     },
     "execution_count": 19,
     "metadata": {},
     "output_type": "execute_result"
    }
   ],
   "source": [
    "# Finding the Centroid of Clusters\n",
    "#Mean_Times = np.array()\n",
    "Mean_Times = np.array(kmeans.cluster_centers_)\n",
    "Mean_Times"
   ]
  },
  {
   "cell_type": "markdown",
   "metadata": {},
   "source": [
    "Here I would like to make one change, as we can notice that we have also received 0150 hrs which is around Midnight 1.30 AM. Ofcourse no teacher send notice that late, this is just a human error that I sometimes forget to make server live or other reasons."
   ]
  },
  {
   "cell_type": "code",
   "execution_count": 20,
   "metadata": {},
   "outputs": [
    {
     "data": {
      "text/plain": [
       "array([1219, 1778, 2262])"
      ]
     },
     "execution_count": 20,
     "metadata": {},
     "output_type": "execute_result"
    }
   ],
   "source": [
    "a=min(Mean_Times)        # Selecting the minimum time in this case\n",
    "Mean_Times_New = np.setdiff1d(Mean_Times,a)  #comparing the two 1 dimension array to remove min term\n",
    "Mean_Times_New = Mean_Times_New.astype(int)  #converting float to int because no need to be too accurate\n",
    "Mean_Times_New "
   ]
  },
  {
   "cell_type": "markdown",
   "metadata": {},
   "source": [
    "### Converting time in normal format"
   ]
  },
  {
   "cell_type": "code",
   "execution_count": 21,
   "metadata": {},
   "outputs": [
    {
     "data": {
      "text/plain": [
       "['12:11', '17:46', '22:37']"
      ]
     },
     "execution_count": 21,
     "metadata": {},
     "output_type": "execute_result"
    }
   ],
   "source": [
    "Time_List = []\n",
    "Mean_Times_New = Mean_Times_New.astype(str)\n",
    "for i in Mean_Times_New:\n",
    "    mint=int(i[2:])\n",
    "    mint=int(mint*0.6)\n",
    "    i=i[:2]+':'+str(mint)\n",
    "    Time_List.append(i)\n",
    "\n",
    "Time_List "
   ]
  },
  {
   "cell_type": "markdown",
   "metadata": {},
   "source": [
    "### Making Server Engine"
   ]
  },
  {
   "cell_type": "markdown",
   "metadata": {},
   "source": [
    "All set! We got the mean active hours when probability of receiving notice is highest. I would like to keep my servers on for 1 hour that's it."
   ]
  },
  {
   "cell_type": "markdown",
   "metadata": {},
   "source": [
    "We need a program to know get Current Time"
   ]
  },
  {
   "cell_type": "code",
   "execution_count": 22,
   "metadata": {},
   "outputs": [
    {
     "name": "stdout",
     "output_type": "stream",
     "text": [
      "Current Time = 22:09:17\n"
     ]
    }
   ],
   "source": [
    "from datetime import datetime\n",
    "\n",
    "now = datetime.now()\n",
    "\n",
    "current_time = now.strftime(\"%H:%M:%S\")\n",
    "print(\"Current Time =\", current_time)"
   ]
  },
  {
   "cell_type": "markdown",
   "metadata": {},
   "source": [
    "Now we to set a loop to automatically switch on the server file (here we will be using 'Server On' string to demonstrate the process) . As decided we need a server limit of 1 hour, so the program will begin 30 min before of Mean time. \n",
    "So here we go."
   ]
  },
  {
   "cell_type": "code",
   "execution_count": 23,
   "metadata": {
    "scrolled": true
   },
   "outputs": [
    {
     "data": {
      "text/plain": [
       "'17:16'"
      ]
     },
     "execution_count": 23,
     "metadata": {},
     "output_type": "execute_result"
    }
   ],
   "source": [
    "def get_initial_time(time):\n",
    "    hour=int(time[:2])\n",
    "    minute=int(time[3:])\n",
    "    if (minute-30)<=0:\n",
    "        minute=minute+30\n",
    "        hour=hour-1\n",
    "    else:\n",
    "        minute=minute-30\n",
    "    newTime=str(hour)+\":\"+str(minute)\n",
    "    if(int(minute/10)==0):\n",
    "        newTime=str(hour)+\":0\"+str(minute)\n",
    "    return newTime\n",
    "\n",
    "get_initial_time(Time_List[1])      #Lets Test"
   ]
  },
  {
   "cell_type": "code",
   "execution_count": 26,
   "metadata": {},
   "outputs": [
    {
     "data": {
      "text/plain": [
       "['11:41', '17:16', '22:07']"
      ]
     },
     "execution_count": 26,
     "metadata": {},
     "output_type": "execute_result"
    }
   ],
   "source": [
    "time_run=[]\n",
    "for i in Time_List:\n",
    "    time_run.append(get_initial_time(i))\n",
    "time_run"
   ]
  },
  {
   "cell_type": "code",
   "execution_count": 29,
   "metadata": {},
   "outputs": [
    {
     "name": "stdout",
     "output_type": "stream",
     "text": [
      "Server On\n",
      "['Date:2020-05-14 Time:22:25 Session: Successful']\n"
     ]
    }
   ],
   "source": [
    "plug=True\n",
    "statusReport=[]\n",
    "time_test=''\n",
    "import time  #this library will be used to delay our while loop\n",
    "\n",
    "from datetime import date\n",
    "today = date.today()\n",
    "\n",
    "now = datetime.now()\n",
    "current_time = now.strftime(\"%H:%M:%S\")\n",
    "\n",
    "#################\n",
    "#since to test this program we need to put the current time so that we don't have to wait\n",
    "#so just comment out the below code by Removing the Hashtag (#)\n",
    "\n",
    "#time_test = current_time[:5]\n",
    "\n",
    "#################\n",
    "\n",
    "\n",
    "while (plug):\n",
    "    hhmm=current_time[:5]\n",
    "    if (hhmm==time_run[0] or hhmm==time_run[1] or hhmm==time_run[2] or hhmm==time_test):\n",
    "        print(\"Server On\")\n",
    "        time.sleep(5)        #For Testing reason, Delay is of 5 Seconds\n",
    "        statusReport.append(\"Date:\"+str(today)+\" Time:\"+hhmm+\" Session: Successful\")\n",
    "        plug=False\n",
    "    now = datetime.now()\n",
    "    current_time = now.strftime(\"%H:%M:%S\")\n",
    "print(statusReport)\n",
    "    \n",
    "    \n",
    "# Output will come as\n",
    "# Server On\n",
    "# ['Date:2020-05-14 Time:22:25 Session: Successful']"
   ]
  },
  {
   "cell_type": "code",
   "execution_count": null,
   "metadata": {},
   "outputs": [],
   "source": []
  }
 ],
 "metadata": {
  "kernelspec": {
   "display_name": "Python 3",
   "language": "python",
   "name": "python3"
  },
  "language_info": {
   "codemirror_mode": {
    "name": "ipython",
    "version": 3
   },
   "file_extension": ".py",
   "mimetype": "text/x-python",
   "name": "python",
   "nbconvert_exporter": "python",
   "pygments_lexer": "ipython3",
   "version": "3.7.6"
  }
 },
 "nbformat": 4,
 "nbformat_minor": 4
}
